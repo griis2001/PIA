{
  "nbformat": 4,
  "nbformat_minor": 0,
  "metadata": {
    "colab": {
      "provenance": [],
      "authorship_tag": "ABX9TyPybN5LM2Y9fci2jYA/n1D4",
      "include_colab_link": true
    },
    "kernelspec": {
      "name": "python3",
      "display_name": "Python 3"
    },
    "language_info": {
      "name": "python"
    }
  },
  "cells": [
    {
      "cell_type": "markdown",
      "metadata": {
        "id": "view-in-github",
        "colab_type": "text"
      },
      "source": [
        "<a href=\"https://colab.research.google.com/github/griis2001/PIA/blob/main/PIA_ABC.ipynb\" target=\"_parent\"><img src=\"https://colab.research.google.com/assets/colab-badge.svg\" alt=\"Open In Colab\"/></a>"
      ]
    },
    {
      "cell_type": "markdown",
      "source": [
        "# Metódología para algoritmos a base de enjambres de abejas\n",
        "\n",
        "## Integrantes\n",
        "\n",
        "Brandom Ulises Gil Serna 1726103\n",
        "\n",
        "Grisbet Herrera Gallegos 1989948\n",
        "\n",
        "Salma Anette Viveros Sánchez 1986207\n",
        "\n",
        "Joel Ricardo Ruiz Rojas 1862940\n",
        "\n",
        "Eduardo Jared Velázquez López 1854294\n",
        "\n",
        "Paulina Alejandra Martinez Arias 1928749"
      ],
      "metadata": {
        "id": "c3bzlJL2r_Kd"
      }
    },
    {
      "cell_type": "code",
      "source": [
        "import random"
      ],
      "metadata": {
        "id": "Qe_dByBUr8mD"
      },
      "execution_count": 1,
      "outputs": []
    },
    {
      "cell_type": "code",
      "source": [
        "# Parámetros del algoritmo ABC\n",
        "n_abejas = 10  # Número de abejas\n",
        "n_celdas = 5  # Número de celdas\n",
        "n_iteraciones = 100  # Número de iteraciones\n",
        "n_emp = 5  # Número de empleadas\n",
        "limite = 3  # Límite de intentos"
      ],
      "metadata": {
        "id": "j9SioLgKsJ96"
      },
      "execution_count": 2,
      "outputs": []
    },
    {
      "cell_type": "code",
      "source": [
        "# Inicialización aleatoria de la asignación de celdas a abejas\n",
        "solucion_actual = [random.randint(0, n_celdas-1) for _ in range(n_abejas)]\n",
        "print(solucion_actual)"
      ],
      "metadata": {
        "id": "GqkoBZgMsLqL",
        "colab": {
          "base_uri": "https://localhost:8080/"
        },
        "outputId": "753c5551-4c9f-47c1-ee67-68dc2a71cf04"
      },
      "execution_count": 3,
      "outputs": [
        {
          "output_type": "stream",
          "name": "stdout",
          "text": [
            "[4, 0, 0, 4, 0, 3, 2, 1, 2, 3]\n"
          ]
        }
      ]
    },
    {
      "cell_type": "code",
      "source": [
        "# Matriz de producción de miel por celda (valores aleatorios)\n",
        "produccion_celdas = [random.random() for _ in range(n_celdas)]\n",
        "print(produccion_celdas)"
      ],
      "metadata": {
        "id": "Ymu6aCeIsNkw",
        "colab": {
          "base_uri": "https://localhost:8080/"
        },
        "outputId": "c1da56f3-280c-4017-ccdd-5cb12a28ac06"
      },
      "execution_count": 4,
      "outputs": [
        {
          "output_type": "stream",
          "name": "stdout",
          "text": [
            "[0.23398543698527585, 0.30981226674881523, 0.747320053402887, 0.10484853397846805, 0.45676946662596873]\n"
          ]
        }
      ]
    },
    {
      "cell_type": "code",
      "source": [
        "# Función objetivo: producción total de miel\n",
        "def produccion_total(solucion):\n",
        "    return sum(produccion_celdas[celda] for celda in solucion)"
      ],
      "metadata": {
        "id": "T0oaQXEvsPTX"
      },
      "execution_count": 5,
      "outputs": []
    },
    {
      "cell_type": "code",
      "source": [
        "# Algoritmo ABC\n",
        "for iteracion in range(n_iteraciones):\n",
        "    # Fase de exploración\n",
        "    for i in range(n_emp):\n",
        "        celda_explorada = random.randint(0, n_celdas-1)\n",
        "        nueva_solucion = solucion_actual.copy()\n",
        "        nueva_solucion[random.randint(0, n_abejas-1)] = celda_explorada\n",
        "        if produccion_total(nueva_solucion) > produccion_total(solucion_actual):\n",
        "            solucion_actual = nueva_solucion.copy()\n",
        "    \n",
        "    # Fase de empleadas\n",
        "    for i in range(n_abejas):\n",
        "        intentos = 0\n",
        "        while intentos < limite:\n",
        "            celda_explorada = random.randint(0, n_celdas-1)\n",
        "            nueva_solucion = solucion_actual.copy()\n",
        "            nueva_solucion[i] = celda_explorada\n",
        "            if produccion_total(nueva_solucion) > produccion_total(solucion_actual):\n",
        "                solucion_actual = nueva_solucion.copy()\n",
        "                break\n",
        "            intentos += 1\n",
        "    \n",
        "    # Fase de observadoras\n",
        "    soluciones_candidatas = []\n",
        "    for i in range(n_abejas):\n",
        "        probabilidad = produccion_celdas[solucion_actual[i]] / sum(produccion_celdas)\n",
        "        if random.random() < probabilidad:\n",
        "            soluciones_candidatas.append(solucion_actual[i])\n",
        "    if soluciones_candidatas:\n",
        "        solucion_actual[random.choice(soluciones_candidatas)] = random.randint(0, n_celdas-1)\n",
        "\n",
        "# Resultados\n",
        "mejor_solucion = solucion_actual\n",
        "produccion_optima = produccion_total(mejor_solucion)\n",
        "print(\"Mejor asignación de celdas:\", mejor_solucion)\n",
        "print(\"Producción total de miel:\", produccion_optima)\n"
      ],
      "metadata": {
        "id": "txPI2NVVsVqz",
        "colab": {
          "base_uri": "https://localhost:8080/"
        },
        "outputId": "0074345c-e175-46bc-f883-cfec9a76137a"
      },
      "execution_count": 6,
      "outputs": [
        {
          "output_type": "stream",
          "name": "stdout",
          "text": [
            "Mejor asignación de celdas: [2, 2, 1, 2, 2, 2, 2, 2, 2, 2]\n",
            "Producción total de miel: 7.035692747374797\n"
          ]
        }
      ]
    },
    {
      "cell_type": "code",
      "source": [],
      "metadata": {
        "id": "uA1AOlWN-tpM"
      },
      "execution_count": null,
      "outputs": []
    }
  ]
}